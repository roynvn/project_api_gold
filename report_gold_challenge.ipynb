{
  "cells": [
    {
      "cell_type": "code",
      "execution_count": 2,
      "metadata": {
        "id": "bZmbA0EtUCeq"
      },
      "outputs": [],
      "source": [
        "import pandas as pd\n",
        "import matplotlib.pyplot as plt\n",
        "import numpy as np"
      ]
    },
    {
      "cell_type": "code",
      "execution_count": null,
      "metadata": {
        "colab": {
          "base_uri": "https://localhost:8080/",
          "height": 797
        },
        "id": "AZQZDJiIURDP",
        "outputId": "4b32b1d6-7623-4bec-8a99-2a5f24e0f4d8"
      },
      "outputs": [],
      "source": [
        "df_total = pd.read_csv(\"C:\\Challenge gold\\projectgold\\data.csv\", encoding = 'latin-1')\n",
        "df_total"
      ]
    },
    {
      "cell_type": "markdown",
      "metadata": {
        "id": "GkzPj4AiXuyg"
      },
      "source": [
        "<h2>DIAGRAM FOR TYPE HS or ABUSIVE </h2>"
      ]
    },
    {
      "cell_type": "code",
      "execution_count": 4,
      "metadata": {
        "colab": {
          "base_uri": "https://localhost:8080/",
          "height": 424
        },
        "id": "aLqL-LR4Uk_s",
        "outputId": "ee8d48e4-7a08-45d0-80eb-cfab0b2ffc31"
      },
      "outputs": [
        {
          "data": {
            "text/html": [
              "<div>\n",
              "<style scoped>\n",
              "    .dataframe tbody tr th:only-of-type {\n",
              "        vertical-align: middle;\n",
              "    }\n",
              "\n",
              "    .dataframe tbody tr th {\n",
              "        vertical-align: top;\n",
              "    }\n",
              "\n",
              "    .dataframe thead th {\n",
              "        text-align: right;\n",
              "    }\n",
              "</style>\n",
              "<table border=\"1\" class=\"dataframe\">\n",
              "  <thead>\n",
              "    <tr style=\"text-align: right;\">\n",
              "      <th></th>\n",
              "      <th>HS</th>\n",
              "      <th>Abusive</th>\n",
              "    </tr>\n",
              "  </thead>\n",
              "  <tbody>\n",
              "    <tr>\n",
              "      <th>0</th>\n",
              "      <td>1</td>\n",
              "      <td>1</td>\n",
              "    </tr>\n",
              "    <tr>\n",
              "      <th>1</th>\n",
              "      <td>0</td>\n",
              "      <td>1</td>\n",
              "    </tr>\n",
              "    <tr>\n",
              "      <th>2</th>\n",
              "      <td>0</td>\n",
              "      <td>0</td>\n",
              "    </tr>\n",
              "    <tr>\n",
              "      <th>3</th>\n",
              "      <td>0</td>\n",
              "      <td>0</td>\n",
              "    </tr>\n",
              "    <tr>\n",
              "      <th>4</th>\n",
              "      <td>1</td>\n",
              "      <td>1</td>\n",
              "    </tr>\n",
              "    <tr>\n",
              "      <th>...</th>\n",
              "      <td>...</td>\n",
              "      <td>...</td>\n",
              "    </tr>\n",
              "    <tr>\n",
              "      <th>13164</th>\n",
              "      <td>1</td>\n",
              "      <td>1</td>\n",
              "    </tr>\n",
              "    <tr>\n",
              "      <th>13165</th>\n",
              "      <td>0</td>\n",
              "      <td>1</td>\n",
              "    </tr>\n",
              "    <tr>\n",
              "      <th>13166</th>\n",
              "      <td>0</td>\n",
              "      <td>0</td>\n",
              "    </tr>\n",
              "    <tr>\n",
              "      <th>13167</th>\n",
              "      <td>0</td>\n",
              "      <td>0</td>\n",
              "    </tr>\n",
              "    <tr>\n",
              "      <th>13168</th>\n",
              "      <td>1</td>\n",
              "      <td>1</td>\n",
              "    </tr>\n",
              "  </tbody>\n",
              "</table>\n",
              "<p>13169 rows × 2 columns</p>\n",
              "</div>"
            ],
            "text/plain": [
              "       HS  Abusive\n",
              "0       1        1\n",
              "1       0        1\n",
              "2       0        0\n",
              "3       0        0\n",
              "4       1        1\n",
              "...    ..      ...\n",
              "13164   1        1\n",
              "13165   0        1\n",
              "13166   0        0\n",
              "13167   0        0\n",
              "13168   1        1\n",
              "\n",
              "[13169 rows x 2 columns]"
            ]
          },
          "execution_count": 4,
          "metadata": {},
          "output_type": "execute_result"
        }
      ],
      "source": [
        "df_type = df_total[['HS','Abusive']].copy()\n",
        "df_type"
      ]
    },
    {
      "cell_type": "code",
      "execution_count": 7,
      "metadata": {
        "colab": {
          "base_uri": "https://localhost:8080/"
        },
        "id": "jD92hKm2VP6K",
        "outputId": "1ba31b13-e2c1-4491-d840-6e25a5f803d2"
      },
      "outputs": [
        {
          "name": "stdout",
          "output_type": "stream",
          "text": [
            "Total untuk kategori HS:  5561\n",
            "Total untuk kategori Abusive:  5043\n"
          ]
        }
      ],
      "source": [
        "total_HS = df_type['HS'].sum()\n",
        "print(\"Total untuk kategori HS: \", total_HS)\n",
        "total_abusive = df_type['Abusive'].sum()\n",
        "print(\"Total untuk kategori Abusive: \", total_abusive)"
      ]
    },
    {
      "cell_type": "code",
      "execution_count": 27,
      "metadata": {
        "colab": {
          "base_uri": "https://localhost:8080/",
          "height": 374
        },
        "id": "RkpUkmioV8OL",
        "outputId": "71ff2f66-7910-4e93-c5e4-fa5395122ee6"
      },
      "outputs": [
        {
          "data": {
            "image/png": "[encoded data removed]",
            "text/plain": [
              "<Figure size 432x288 with 1 Axes>"
            ]
          },
          "metadata": {},
          "output_type": "display_data"
        }
      ],
      "source": [
        "#pie chart for type \n",
        "fig = plt.figure()\n",
        "ax = fig.add_axes([0,0,1,1])\n",
        "ax.axis('equal')\n",
        "\n",
        "data = [total_HS, total_abusive]\n",
        "labels = [\"Hate Speech\", \"Abusive\"]\n",
        "\n",
        "plt.pie(data, labels = labels, autopct='%1.2f%%', startangle = 90)\n",
        "plt.show()"
      ]
    },
    {
      "cell_type": "markdown",
      "metadata": {
        "id": "-qvbEu6NX2qk"
      },
      "source": [
        "<H2> DIAGRAM FOR INDIVIDUAL or GROUP </H2>"
      ]
    },
    {
      "cell_type": "code",
      "execution_count": 28,
      "metadata": {
        "colab": {
          "base_uri": "https://localhost:8080/",
          "height": 424
        },
        "id": "v0CtlUoXX_un",
        "outputId": "4275bb77-a16c-44f5-9e01-1cac3e2d2deb"
      },
      "outputs": [
        {
          "data": {
            "text/html": [
              "<div>\n",
              "<style scoped>\n",
              "    .dataframe tbody tr th:only-of-type {\n",
              "        vertical-align: middle;\n",
              "    }\n",
              "\n",
              "    .dataframe tbody tr th {\n",
              "        vertical-align: top;\n",
              "    }\n",
              "\n",
              "    .dataframe thead th {\n",
              "        text-align: right;\n",
              "    }\n",
              "</style>\n",
              "<table border=\"1\" class=\"dataframe\">\n",
              "  <thead>\n",
              "    <tr style=\"text-align: right;\">\n",
              "      <th></th>\n",
              "      <th>HS_Individual</th>\n",
              "      <th>HS_Group</th>\n",
              "    </tr>\n",
              "  </thead>\n",
              "  <tbody>\n",
              "    <tr>\n",
              "      <th>0</th>\n",
              "      <td>1</td>\n",
              "      <td>0</td>\n",
              "    </tr>\n",
              "    <tr>\n",
              "      <th>1</th>\n",
              "      <td>0</td>\n",
              "      <td>0</td>\n",
              "    </tr>\n",
              "    <tr>\n",
              "      <th>2</th>\n",
              "      <td>0</td>\n",
              "      <td>0</td>\n",
              "    </tr>\n",
              "    <tr>\n",
              "      <th>3</th>\n",
              "      <td>0</td>\n",
              "      <td>0</td>\n",
              "    </tr>\n",
              "    <tr>\n",
              "      <th>4</th>\n",
              "      <td>0</td>\n",
              "      <td>1</td>\n",
              "    </tr>\n",
              "    <tr>\n",
              "      <th>...</th>\n",
              "      <td>...</td>\n",
              "      <td>...</td>\n",
              "    </tr>\n",
              "    <tr>\n",
              "      <th>13164</th>\n",
              "      <td>1</td>\n",
              "      <td>0</td>\n",
              "    </tr>\n",
              "    <tr>\n",
              "      <th>13165</th>\n",
              "      <td>0</td>\n",
              "      <td>0</td>\n",
              "    </tr>\n",
              "    <tr>\n",
              "      <th>13166</th>\n",
              "      <td>0</td>\n",
              "      <td>0</td>\n",
              "    </tr>\n",
              "    <tr>\n",
              "      <th>13167</th>\n",
              "      <td>0</td>\n",
              "      <td>0</td>\n",
              "    </tr>\n",
              "    <tr>\n",
              "      <th>13168</th>\n",
              "      <td>1</td>\n",
              "      <td>0</td>\n",
              "    </tr>\n",
              "  </tbody>\n",
              "</table>\n",
              "<p>13169 rows × 2 columns</p>\n",
              "</div>"
            ],
            "text/plain": [
              "       HS_Individual  HS_Group\n",
              "0                  1         0\n",
              "1                  0         0\n",
              "2                  0         0\n",
              "3                  0         0\n",
              "4                  0         1\n",
              "...              ...       ...\n",
              "13164              1         0\n",
              "13165              0         0\n",
              "13166              0         0\n",
              "13167              0         0\n",
              "13168              1         0\n",
              "\n",
              "[13169 rows x 2 columns]"
            ]
          },
          "execution_count": 28,
          "metadata": {},
          "output_type": "execute_result"
        }
      ],
      "source": [
        "df_for = df_total[['HS_Individual', 'HS_Group']].copy()\n",
        "df_for"
      ]
    },
    {
      "cell_type": "code",
      "execution_count": 29,
      "metadata": {
        "colab": {
          "base_uri": "https://localhost:8080/"
        },
        "id": "VHskfb19YdCL",
        "outputId": "403e6d25-4aab-432a-d9ac-46bb4f0e358e"
      },
      "outputs": [
        {
          "name": "stdout",
          "output_type": "stream",
          "text": [
            "Total untuk kategori HS yang bersifat individu:  3575\n",
            "Total untuk kategori HS yang bersifat group :  1986\n"
          ]
        }
      ],
      "source": [
        "total_individual = df_for['HS_Individual'].sum()\n",
        "print(\"Total untuk kategori HS yang bersifat individu: \", total_individual)\n",
        "total_group = df_for['HS_Group'].sum()\n",
        "print(\"Total untuk kategori HS yang bersifat group : \", total_group)"
      ]
    },
    {
      "cell_type": "code",
      "execution_count": 30,
      "metadata": {
        "colab": {
          "base_uri": "https://localhost:8080/",
          "height": 374
        },
        "id": "t9Z8caKwEdOb",
        "outputId": "bdfd4652-552d-4c46-ee1d-d537156deee8"
      },
      "outputs": [
        {
          "data": {
            "image/png": "[encoded data removed]",
            "text/plain": [
              "<Figure size 432x288 with 1 Axes>"
            ]
          },
          "metadata": {},
          "output_type": "display_data"
        }
      ],
      "source": [
        "#pie chart for categorical \n",
        "fig = plt.figure()\n",
        "ax = fig.add_axes([0,0,1,1])\n",
        "ax.axis('equal')\n",
        "\n",
        "data = [total_individual, total_group]\n",
        "labels = [\"Individual\", \"Group\"]\n",
        "colors = ['#DD7596', '#8EB897']\n",
        "\n",
        "\n",
        "plt.pie(data, labels = labels, autopct='%1.2f%%', startangle = 90, colors = colors)\n",
        "plt.show()"
      ]
    },
    {
      "cell_type": "markdown",
      "metadata": {
        "id": "Ls74ehZnFvd2"
      },
      "source": [
        "<h2> DIAGRAM FOR SARA </h2>"
      ]
    },
    {
      "cell_type": "code",
      "execution_count": 23,
      "metadata": {
        "colab": {
          "base_uri": "https://localhost:8080/",
          "height": 424
        },
        "id": "2YfwJp58HiLm",
        "outputId": "b72d50a6-2011-4aeb-d213-99030231ef4b"
      },
      "outputs": [
        {
          "data": {
            "text/html": [
              "<div>\n",
              "<style scoped>\n",
              "    .dataframe tbody tr th:only-of-type {\n",
              "        vertical-align: middle;\n",
              "    }\n",
              "\n",
              "    .dataframe tbody tr th {\n",
              "        vertical-align: top;\n",
              "    }\n",
              "\n",
              "    .dataframe thead th {\n",
              "        text-align: right;\n",
              "    }\n",
              "</style>\n",
              "<table border=\"1\" class=\"dataframe\">\n",
              "  <thead>\n",
              "    <tr style=\"text-align: right;\">\n",
              "      <th></th>\n",
              "      <th>HS_Religion</th>\n",
              "      <th>HS_Race</th>\n",
              "      <th>HS_Physical</th>\n",
              "      <th>HS_Gender</th>\n",
              "      <th>HS_Other</th>\n",
              "    </tr>\n",
              "  </thead>\n",
              "  <tbody>\n",
              "    <tr>\n",
              "      <th>0</th>\n",
              "      <td>0</td>\n",
              "      <td>0</td>\n",
              "      <td>0</td>\n",
              "      <td>0</td>\n",
              "      <td>1</td>\n",
              "    </tr>\n",
              "    <tr>\n",
              "      <th>1</th>\n",
              "      <td>0</td>\n",
              "      <td>0</td>\n",
              "      <td>0</td>\n",
              "      <td>0</td>\n",
              "      <td>0</td>\n",
              "    </tr>\n",
              "    <tr>\n",
              "      <th>2</th>\n",
              "      <td>0</td>\n",
              "      <td>0</td>\n",
              "      <td>0</td>\n",
              "      <td>0</td>\n",
              "      <td>0</td>\n",
              "    </tr>\n",
              "    <tr>\n",
              "      <th>3</th>\n",
              "      <td>0</td>\n",
              "      <td>0</td>\n",
              "      <td>0</td>\n",
              "      <td>0</td>\n",
              "      <td>0</td>\n",
              "    </tr>\n",
              "    <tr>\n",
              "      <th>4</th>\n",
              "      <td>1</td>\n",
              "      <td>0</td>\n",
              "      <td>0</td>\n",
              "      <td>0</td>\n",
              "      <td>0</td>\n",
              "    </tr>\n",
              "    <tr>\n",
              "      <th>...</th>\n",
              "      <td>...</td>\n",
              "      <td>...</td>\n",
              "      <td>...</td>\n",
              "      <td>...</td>\n",
              "      <td>...</td>\n",
              "    </tr>\n",
              "    <tr>\n",
              "      <th>13164</th>\n",
              "      <td>0</td>\n",
              "      <td>0</td>\n",
              "      <td>1</td>\n",
              "      <td>0</td>\n",
              "      <td>0</td>\n",
              "    </tr>\n",
              "    <tr>\n",
              "      <th>13165</th>\n",
              "      <td>0</td>\n",
              "      <td>0</td>\n",
              "      <td>0</td>\n",
              "      <td>0</td>\n",
              "      <td>0</td>\n",
              "    </tr>\n",
              "    <tr>\n",
              "      <th>13166</th>\n",
              "      <td>0</td>\n",
              "      <td>0</td>\n",
              "      <td>0</td>\n",
              "      <td>0</td>\n",
              "      <td>0</td>\n",
              "    </tr>\n",
              "    <tr>\n",
              "      <th>13167</th>\n",
              "      <td>0</td>\n",
              "      <td>0</td>\n",
              "      <td>0</td>\n",
              "      <td>0</td>\n",
              "      <td>0</td>\n",
              "    </tr>\n",
              "    <tr>\n",
              "      <th>13168</th>\n",
              "      <td>0</td>\n",
              "      <td>0</td>\n",
              "      <td>0</td>\n",
              "      <td>0</td>\n",
              "      <td>1</td>\n",
              "    </tr>\n",
              "  </tbody>\n",
              "</table>\n",
              "<p>13169 rows × 5 columns</p>\n",
              "</div>"
            ],
            "text/plain": [
              "       HS_Religion  HS_Race  HS_Physical  HS_Gender  HS_Other\n",
              "0                0        0            0          0         1\n",
              "1                0        0            0          0         0\n",
              "2                0        0            0          0         0\n",
              "3                0        0            0          0         0\n",
              "4                1        0            0          0         0\n",
              "...            ...      ...          ...        ...       ...\n",
              "13164            0        0            1          0         0\n",
              "13165            0        0            0          0         0\n",
              "13166            0        0            0          0         0\n",
              "13167            0        0            0          0         0\n",
              "13168            0        0            0          0         1\n",
              "\n",
              "[13169 rows x 5 columns]"
            ]
          },
          "execution_count": 23,
          "metadata": {},
          "output_type": "execute_result"
        }
      ],
      "source": [
        "df_sara = df_total[['HS_Religion','HS_Race','HS_Physical','HS_Gender','HS_Other']].copy()\n",
        "df_sara"
      ]
    },
    {
      "cell_type": "code",
      "execution_count": 24,
      "metadata": {
        "colab": {
          "base_uri": "https://localhost:8080/"
        },
        "id": "YWC58n8JHxcB",
        "outputId": "5cf10559-10f3-43f9-fe5e-64385f80c622"
      },
      "outputs": [
        {
          "name": "stdout",
          "output_type": "stream",
          "text": [
            "Total untuk kategori HS yang bersifat agama:  793\n",
            "Total untuk kategori HS yang bersifat ras :  566\n",
            "Total untuk kategori HS yang bersifat fisik:  323\n",
            "Total untuk kategori HS yang bersifat gender:  306\n",
            "Total untuk kategori HS yang bersifat other:  3740\n"
          ]
        }
      ],
      "source": [
        "total_religion = df_sara['HS_Religion'].sum()\n",
        "print(\"Total untuk kategori HS yang bersifat agama: \", total_religion)\n",
        "total_race = df_sara['HS_Race'].sum()\n",
        "print(\"Total untuk kategori HS yang bersifat ras : \", total_race)\n",
        "total_physical = df_sara['HS_Physical'].sum()\n",
        "print(\"Total untuk kategori HS yang bersifat fisik: \", total_physical)\n",
        "total_gender = df_sara['HS_Gender'].sum()\n",
        "print(\"Total untuk kategori HS yang bersifat gender: \", total_gender)\n",
        "total_other = df_sara['HS_Other'].sum()\n",
        "print(\"Total untuk kategori HS yang bersifat other: \", total_other)"
      ]
    },
    {
      "cell_type": "code",
      "execution_count": 25,
      "metadata": {
        "colab": {
          "base_uri": "https://localhost:8080/",
          "height": 265
        },
        "id": "ujlfzgJVIqzh",
        "outputId": "0ab5cd0e-e6ca-4498-88fa-0b71cee9066c"
      },
      "outputs": [
        {
          "data": {
            "image/png": "[encoded data removed]",
            "text/plain": [
              "<Figure size 432x288 with 1 Axes>"
            ]
          },
          "metadata": {
            "needs_background": "light"
          },
          "output_type": "display_data"
        }
      ],
      "source": [
        "# data\n",
        "total_data = [total_religion, total_race, total_physical, total_gender, total_other]\n",
        "name_categorical = ('Religion', 'Race', 'Fisik', 'Gender', 'Lainnya')\n",
        "x_pos = np.arange(len(name_categorical))\n",
        "\n",
        "\n",
        "# Create bars\n",
        "plt.bar(x_pos, total_data, color=['yellow', 'red', 'green', 'blue', 'grey'])\n",
        "\n",
        "# Create names on the x-axis\n",
        "plt.xticks(x_pos, name_categorical)\n",
        "\n",
        "# Show graphic\n",
        "plt.show()"
      ]
    },
    {
      "cell_type": "markdown",
      "metadata": {
        "id": "npOHDP5vM0CJ"
      },
      "source": [
        "<h2> DIAGRAM FOR SIFAT </H2>"
      ]
    },
    {
      "cell_type": "code",
      "execution_count": 31,
      "metadata": {
        "colab": {
          "base_uri": "https://localhost:8080/",
          "height": 424
        },
        "id": "7NIz3FcAM3Dn",
        "outputId": "73c49a7b-0c84-41e7-ccc5-dde6c175b259"
      },
      "outputs": [
        {
          "data": {
            "text/html": [
              "<div>\n",
              "<style scoped>\n",
              "    .dataframe tbody tr th:only-of-type {\n",
              "        vertical-align: middle;\n",
              "    }\n",
              "\n",
              "    .dataframe tbody tr th {\n",
              "        vertical-align: top;\n",
              "    }\n",
              "\n",
              "    .dataframe thead th {\n",
              "        text-align: right;\n",
              "    }\n",
              "</style>\n",
              "<table border=\"1\" class=\"dataframe\">\n",
              "  <thead>\n",
              "    <tr style=\"text-align: right;\">\n",
              "      <th></th>\n",
              "      <th>HS_Weak</th>\n",
              "      <th>HS_Moderate</th>\n",
              "      <th>HS_Strong</th>\n",
              "    </tr>\n",
              "  </thead>\n",
              "  <tbody>\n",
              "    <tr>\n",
              "      <th>0</th>\n",
              "      <td>1</td>\n",
              "      <td>0</td>\n",
              "      <td>0</td>\n",
              "    </tr>\n",
              "    <tr>\n",
              "      <th>1</th>\n",
              "      <td>0</td>\n",
              "      <td>0</td>\n",
              "      <td>0</td>\n",
              "    </tr>\n",
              "    <tr>\n",
              "      <th>2</th>\n",
              "      <td>0</td>\n",
              "      <td>0</td>\n",
              "      <td>0</td>\n",
              "    </tr>\n",
              "    <tr>\n",
              "      <th>3</th>\n",
              "      <td>0</td>\n",
              "      <td>0</td>\n",
              "      <td>0</td>\n",
              "    </tr>\n",
              "    <tr>\n",
              "      <th>4</th>\n",
              "      <td>0</td>\n",
              "      <td>1</td>\n",
              "      <td>0</td>\n",
              "    </tr>\n",
              "    <tr>\n",
              "      <th>...</th>\n",
              "      <td>...</td>\n",
              "      <td>...</td>\n",
              "      <td>...</td>\n",
              "    </tr>\n",
              "    <tr>\n",
              "      <th>13164</th>\n",
              "      <td>1</td>\n",
              "      <td>0</td>\n",
              "      <td>0</td>\n",
              "    </tr>\n",
              "    <tr>\n",
              "      <th>13165</th>\n",
              "      <td>0</td>\n",
              "      <td>0</td>\n",
              "      <td>0</td>\n",
              "    </tr>\n",
              "    <tr>\n",
              "      <th>13166</th>\n",
              "      <td>0</td>\n",
              "      <td>0</td>\n",
              "      <td>0</td>\n",
              "    </tr>\n",
              "    <tr>\n",
              "      <th>13167</th>\n",
              "      <td>0</td>\n",
              "      <td>0</td>\n",
              "      <td>0</td>\n",
              "    </tr>\n",
              "    <tr>\n",
              "      <th>13168</th>\n",
              "      <td>1</td>\n",
              "      <td>0</td>\n",
              "      <td>0</td>\n",
              "    </tr>\n",
              "  </tbody>\n",
              "</table>\n",
              "<p>13169 rows × 3 columns</p>\n",
              "</div>"
            ],
            "text/plain": [
              "       HS_Weak  HS_Moderate  HS_Strong\n",
              "0            1            0          0\n",
              "1            0            0          0\n",
              "2            0            0          0\n",
              "3            0            0          0\n",
              "4            0            1          0\n",
              "...        ...          ...        ...\n",
              "13164        1            0          0\n",
              "13165        0            0          0\n",
              "13166        0            0          0\n",
              "13167        0            0          0\n",
              "13168        1            0          0\n",
              "\n",
              "[13169 rows x 3 columns]"
            ]
          },
          "execution_count": 31,
          "metadata": {},
          "output_type": "execute_result"
        }
      ],
      "source": [
        "df_sifat = df_total[['HS_Weak','HS_Moderate','HS_Strong']].copy()\n",
        "df_sifat"
      ]
    },
    {
      "cell_type": "code",
      "execution_count": 32,
      "metadata": {
        "colab": {
          "base_uri": "https://localhost:8080/"
        },
        "id": "Zl6bgqc3NB4G",
        "outputId": "b806a999-07f2-484a-aa72-7de981f6f393"
      },
      "outputs": [
        {
          "name": "stdout",
          "output_type": "stream",
          "text": [
            "Total untuk kategori HS bersifat Lemah:  3383\n",
            "Total untuk kategori HS yang bersifat moderate :  1705\n",
            "Total untuk kategori HS yang bersifat Kuat:  473\n"
          ]
        }
      ],
      "source": [
        "total_weak = df_sifat['HS_Weak'].sum()\n",
        "print(\"Total untuk kategori HS bersifat Lemah: \", total_weak)\n",
        "total_moderate = df_sifat['HS_Moderate'].sum()\n",
        "print(\"Total untuk kategori HS yang bersifat moderate : \", total_moderate)\n",
        "total_strong = df_sifat['HS_Strong'].sum()\n",
        "print(\"Total untuk kategori HS yang bersifat Kuat: \", total_strong)"
      ]
    },
    {
      "cell_type": "code",
      "execution_count": 33,
      "metadata": {
        "colab": {
          "base_uri": "https://localhost:8080/",
          "height": 248
        },
        "id": "HdmYLrYoNkgX",
        "outputId": "89400887-71e2-4d8c-caba-65587eaee544"
      },
      "outputs": [
        {
          "data": {
            "image/png": "[encoded data removed]",
            "text/plain": [
              "<Figure size 432x288 with 1 Axes>"
            ]
          },
          "metadata": {},
          "output_type": "display_data"
        }
      ],
      "source": [
        "# create data\n",
        "names = ['Lemah', 'Sedang', 'Kuat']\n",
        "size = [total_weak, total_moderate, total_strong]\n",
        " \n",
        "# Create a circle at the center of the plot\n",
        "my_circle = plt.Circle( (0,0), 0.7, color='white')\n",
        "\n",
        "# Give color names\n",
        "plt.pie(size, labels=names, colors=['red','green','blue'],autopct=\"%.1f%%\")\n",
        "p = plt.gcf()\n",
        "p.gca().add_artist(my_circle)\n",
        "\n",
        "# Show the graph\n",
        "plt.show()"
      ]
    }
  ],
  "metadata": {
    "colab": {
      "collapsed_sections": [],
      "provenance": []
    },
    "kernelspec": {
      "display_name": "Python 3.10.5 64-bit",
      "language": "python",
      "name": "python3"
    },
    "language_info": {
      "codemirror_mode": {
        "name": "ipython",
        "version": 3
      },
      "file_extension": ".py",
      "mimetype": "text/x-python",
      "name": "python",
      "nbconvert_exporter": "python",
      "pygments_lexer": "ipython3",
      "version": "3.10.5"
    },
    "vscode": {
      "interpreter": {
        "hash": "9f2447cf551f7e602848160f1900cfbb8620a2aa30a5692a1068e552d18f87e9"
      }
    }
  },
  "nbformat": 4,
  "nbformat_minor": 0
}
