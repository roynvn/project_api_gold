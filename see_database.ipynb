{
 "cells": [
  {
   "cell_type": "code",
   "execution_count": 2,
   "metadata": {},
   "outputs": [],
   "source": [
    "import sqlite3\n",
    "import pandas as pd"
   ]
  },
  {
   "cell_type": "markdown",
   "metadata": {},
   "source": [
    "<H2> STORE TEXT DATABASE </H2>"
   ]
  },
  {
   "cell_type": "code",
   "execution_count": 19,
   "metadata": {},
   "outputs": [
    {
     "data": {
      "text/html": [
       "<div>\n",
       "<style scoped>\n",
       "    .dataframe tbody tr th:only-of-type {\n",
       "        vertical-align: middle;\n",
       "    }\n",
       "\n",
       "    .dataframe tbody tr th {\n",
       "        vertical-align: top;\n",
       "    }\n",
       "\n",
       "    .dataframe thead th {\n",
       "        text-align: right;\n",
       "    }\n",
       "</style>\n",
       "<table border=\"1\" class=\"dataframe\">\n",
       "  <thead>\n",
       "    <tr style=\"text-align: right;\">\n",
       "      <th></th>\n",
       "      <th>Before</th>\n",
       "      <th>After</th>\n",
       "    </tr>\n",
       "  </thead>\n",
       "  <tbody>\n",
       "    <tr>\n",
       "      <th>0</th>\n",
       "      <td>:) gellodfafaf</td>\n",
       "      <td>gellodfafaf</td>\n",
       "    </tr>\n",
       "    <tr>\n",
       "      <th>1</th>\n",
       "      <td>kwkwkwk \\n</td>\n",
       "      <td>kwkwkwk</td>\n",
       "    </tr>\n",
       "  </tbody>\n",
       "</table>\n",
       "</div>"
      ],
      "text/plain": [
       "           Before        After\n",
       "0  :) gellodfafaf  gellodfafaf\n",
       "1      kwkwkwk \\n      kwkwkwk"
      ]
     },
     "execution_count": 19,
     "metadata": {},
     "output_type": "execute_result"
    }
   ],
   "source": [
    "# Create a SQL connection to our SQLite database\n",
    "con = sqlite3.connect(\"C:\\Challenge gold\\projectgold\\STORE_TEXT.db\")\n",
    "\n",
    "cur = con.cursor()\n",
    "\n",
    "df = pd.read_sql_query('SELECT * FROM TEXT_DATA', con)\n",
    "# Be sure to close the connection\n",
    "con.close()\n",
    "df"
   ]
  },
  {
   "cell_type": "markdown",
   "metadata": {},
   "source": [
    "<h2> STORE TWEET DATABASE </h2>"
   ]
  },
  {
   "cell_type": "code",
   "execution_count": 21,
   "metadata": {},
   "outputs": [
    {
     "data": {
      "text/html": [
       "<div>\n",
       "<style scoped>\n",
       "    .dataframe tbody tr th:only-of-type {\n",
       "        vertical-align: middle;\n",
       "    }\n",
       "\n",
       "    .dataframe tbody tr th {\n",
       "        vertical-align: top;\n",
       "    }\n",
       "\n",
       "    .dataframe thead th {\n",
       "        text-align: right;\n",
       "    }\n",
       "</style>\n",
       "<table border=\"1\" class=\"dataframe\">\n",
       "  <thead>\n",
       "    <tr style=\"text-align: right;\">\n",
       "      <th></th>\n",
       "      <th>Tweet</th>\n",
       "      <th>Tweet_Clean</th>\n",
       "    </tr>\n",
       "  </thead>\n",
       "  <tbody>\n",
       "    <tr>\n",
       "      <th>0</th>\n",
       "      <td>- disaat semua cowok berusaha melacak perhatia...</td>\n",
       "      <td>disaat semua cowok berusaha melacak perhatian ...</td>\n",
       "    </tr>\n",
       "    <tr>\n",
       "      <th>1</th>\n",
       "      <td>RT USER: USER siapa yang telat ngasih tau elu?...</td>\n",
       "      <td>rt user user siapa yang telat ngasih tau elued...</td>\n",
       "    </tr>\n",
       "    <tr>\n",
       "      <th>2</th>\n",
       "      <td>41. Kadang aku berfikir, kenapa aku tetap perc...</td>\n",
       "      <td>41 kadang aku berfikir kenapa aku tetap percay...</td>\n",
       "    </tr>\n",
       "    <tr>\n",
       "      <th>3</th>\n",
       "      <td>USER USER AKU ITU AKU\\n\\nKU TAU MATAMU SIPIT T...</td>\n",
       "      <td>user user aku itu aku ku tau matamu sipit tapi...</td>\n",
       "    </tr>\n",
       "    <tr>\n",
       "      <th>4</th>\n",
       "      <td>USER USER Kaum cebong kapir udah keliatan dong...</td>\n",
       "      <td>user user kaum cebong kapir udah keliatan dong...</td>\n",
       "    </tr>\n",
       "    <tr>\n",
       "      <th>...</th>\n",
       "      <td>...</td>\n",
       "      <td>...</td>\n",
       "    </tr>\n",
       "    <tr>\n",
       "      <th>13164</th>\n",
       "      <td>USER jangan asal ngomong ndasmu. congor lu yg ...</td>\n",
       "      <td>user jangan asal ngomong ndasmu congor lu yg s...</td>\n",
       "    </tr>\n",
       "    <tr>\n",
       "      <th>13165</th>\n",
       "      <td>USER Kasur mana enak kunyuk'</td>\n",
       "      <td>user kasur mana enak kunyuk</td>\n",
       "    </tr>\n",
       "    <tr>\n",
       "      <th>13166</th>\n",
       "      <td>USER Hati hati bisu :( .g\\n\\nlagi bosan huft \\...</td>\n",
       "      <td>user hati hati bisu  lagi bosan huft</td>\n",
       "    </tr>\n",
       "    <tr>\n",
       "      <th>13167</th>\n",
       "      <td>USER USER USER USER Bom yang real mudah terdet...</td>\n",
       "      <td>user user user user bom yang real mudah terdet...</td>\n",
       "    </tr>\n",
       "    <tr>\n",
       "      <th>13168</th>\n",
       "      <td>USER Mana situ ngasih(\": itu cuma foto ya kuti...</td>\n",
       "      <td>user mana situ ngasih itu cuma foto ya kutil onta</td>\n",
       "    </tr>\n",
       "  </tbody>\n",
       "</table>\n",
       "<p>13169 rows × 2 columns</p>\n",
       "</div>"
      ],
      "text/plain": [
       "                                                   Tweet  \\\n",
       "0      - disaat semua cowok berusaha melacak perhatia...   \n",
       "1      RT USER: USER siapa yang telat ngasih tau elu?...   \n",
       "2      41. Kadang aku berfikir, kenapa aku tetap perc...   \n",
       "3      USER USER AKU ITU AKU\\n\\nKU TAU MATAMU SIPIT T...   \n",
       "4      USER USER Kaum cebong kapir udah keliatan dong...   \n",
       "...                                                  ...   \n",
       "13164  USER jangan asal ngomong ndasmu. congor lu yg ...   \n",
       "13165                       USER Kasur mana enak kunyuk'   \n",
       "13166  USER Hati hati bisu :( .g\\n\\nlagi bosan huft \\...   \n",
       "13167  USER USER USER USER Bom yang real mudah terdet...   \n",
       "13168  USER Mana situ ngasih(\": itu cuma foto ya kuti...   \n",
       "\n",
       "                                             Tweet_Clean  \n",
       "0      disaat semua cowok berusaha melacak perhatian ...  \n",
       "1      rt user user siapa yang telat ngasih tau elued...  \n",
       "2      41 kadang aku berfikir kenapa aku tetap percay...  \n",
       "3      user user aku itu aku ku tau matamu sipit tapi...  \n",
       "4      user user kaum cebong kapir udah keliatan dong...  \n",
       "...                                                  ...  \n",
       "13164  user jangan asal ngomong ndasmu congor lu yg s...  \n",
       "13165                        user kasur mana enak kunyuk  \n",
       "13166               user hati hati bisu  lagi bosan huft  \n",
       "13167  user user user user bom yang real mudah terdet...  \n",
       "13168  user mana situ ngasih itu cuma foto ya kutil onta  \n",
       "\n",
       "[13169 rows x 2 columns]"
      ]
     },
     "execution_count": 21,
     "metadata": {},
     "output_type": "execute_result"
    }
   ],
   "source": [
    "\n",
    "# Create a SQL connection to our SQLite database\n",
    "con = sqlite3.connect(\"C:\\Challenge gold\\projectgold\\STORE_TWEET.db\")\n",
    "\n",
    "cur = con.cursor()\n",
    "\n",
    "df = pd.read_sql_query('SELECT Tweet, Tweet_Clean FROM TWEET_DATA', con)\n",
    "# Be sure to close the connection\n",
    "con.close()\n",
    "df"
   ]
  }
 ],
 "metadata": {
  "kernelspec": {
   "display_name": "Python 3.10.5 ('projectgold': venv)",
   "language": "python",
   "name": "python3"
  },
  "language_info": {
   "codemirror_mode": {
    "name": "ipython",
    "version": 3
   },
   "file_extension": ".py",
   "mimetype": "text/x-python",
   "name": "python",
   "nbconvert_exporter": "python",
   "pygments_lexer": "ipython3",
   "version": "3.10.5"
  },
  "orig_nbformat": 4,
  "vscode": {
   "interpreter": {
    "hash": "d1601ad94ef05fd91abae551709dab1a8d270bcec94574240d1d2ea3e76b4283"
   }
  }
 },
 "nbformat": 4,
 "nbformat_minor": 2
}
